{
 "cells": [
  {
   "cell_type": "markdown",
   "id": "b357ada0",
   "metadata": {},
   "source": [
    "# Here begins the project"
   ]
  },
  {
   "cell_type": "code",
   "execution_count": 1,
   "id": "08228899",
   "metadata": {},
   "outputs": [
    {
     "data": {
      "text/html": [
       "3"
      ],
      "text/latex": [
       "3"
      ],
      "text/markdown": [
       "3"
      ],
      "text/plain": [
       "[1] 3"
      ]
     },
     "metadata": {},
     "output_type": "display_data"
    }
   ],
   "source": [
    "tot <- read.csv(file = 'C:/Users/scanu/OneDrive/Desktop/Andrea/Università/Garfa/train.csv')\n",
    "length(tot)"
   ]
  },
  {
   "cell_type": "code",
   "execution_count": 75,
   "id": "7916eeba",
   "metadata": {},
   "outputs": [
    {
     "data": {
      "text/html": [
       "<table>\n",
       "<thead><tr><th></th><th scope=col>vocab</th><th scope=col>V2</th><th scope=col>V3</th><th scope=col>V4</th><th scope=col>V5</th><th scope=col>V6</th><th scope=col>V7</th></tr></thead>\n",
       "<tbody>\n",
       "\t<tr><th scope=row>100</th><td>\"basically  </td><td>2.459722e-05</td><td>2.321317e-05</td><td>2.120171e-05</td><td>2.225932e-05</td><td>6.67579e-05 </td><td>2.458029e-05</td></tr>\n",
       "</tbody>\n",
       "</table>\n"
      ],
      "text/latex": [
       "\\begin{tabular}{r|lllllll}\n",
       "  & vocab & V2 & V3 & V4 & V5 & V6 & V7\\\\\n",
       "\\hline\n",
       "\t100 & \"basically   & 2.459722e-05 & 2.321317e-05 & 2.120171e-05 & 2.225932e-05 & 6.67579e-05  & 2.458029e-05\\\\\n",
       "\\end{tabular}\n"
      ],
      "text/markdown": [
       "\n",
       "| <!--/--> | vocab | V2 | V3 | V4 | V5 | V6 | V7 |\n",
       "|---|---|---|---|---|---|---|---|\n",
       "| 100 | \"basically   | 2.459722e-05 | 2.321317e-05 | 2.120171e-05 | 2.225932e-05 | 6.67579e-05  | 2.458029e-05 |\n",
       "\n"
      ],
      "text/plain": [
       "    vocab      V2           V3           V4           V5           V6         \n",
       "100 \"basically 2.459722e-05 2.321317e-05 2.120171e-05 2.225932e-05 6.67579e-05\n",
       "    V7          \n",
       "100 2.458029e-05"
      ]
     },
     "metadata": {},
     "output_type": "display_data"
    }
   ],
   "source": [
    "condprob2[100,]"
   ]
  },
  {
   "cell_type": "code",
   "execution_count": 2,
   "id": "b78a533a",
   "metadata": {},
   "outputs": [
    {
     "data": {
      "text/html": [
       "9216"
      ],
      "text/latex": [
       "9216"
      ],
      "text/markdown": [
       "9216"
      ],
      "text/plain": [
       "[1] 9216"
      ]
     },
     "metadata": {},
     "output_type": "display_data"
    },
    {
     "data": {
      "text/html": [
       "1024"
      ],
      "text/latex": [
       "1024"
      ],
      "text/markdown": [
       "1024"
      ],
      "text/plain": [
       "[1] 1024"
      ]
     },
     "metadata": {},
     "output_type": "display_data"
    }
   ],
   "source": [
    "segmentation = 0.9\n",
    "dim_tot = dim(tot)[1]\n",
    "\n",
    "train_dim = round(segmentation*dim_tot, digit = 0)\n",
    "test_dim = dim_tot - train_dim\n",
    "train_dim\n",
    "test_dim"
   ]
  },
  {
   "cell_type": "code",
   "execution_count": 3,
   "id": "83a4879f",
   "metadata": {},
   "outputs": [
    {
     "data": {
      "text/html": [
       "<ol class=list-inline>\n",
       "\t<li>1025</li>\n",
       "\t<li>3</li>\n",
       "</ol>\n"
      ],
      "text/latex": [
       "\\begin{enumerate*}\n",
       "\\item 1025\n",
       "\\item 3\n",
       "\\end{enumerate*}\n"
      ],
      "text/markdown": [
       "1. 1025\n",
       "2. 3\n",
       "\n",
       "\n"
      ],
      "text/plain": [
       "[1] 1025    3"
      ]
     },
     "metadata": {},
     "output_type": "display_data"
    }
   ],
   "source": [
    "train = tot[1:train_dim,]\n",
    "test = tot[train_dim:dim_tot,]\n",
    "dim(test)"
   ]
  },
  {
   "cell_type": "code",
   "execution_count": 4,
   "id": "99cc2287",
   "metadata": {},
   "outputs": [],
   "source": [
    "train_x = train[[\"Text\"]]\n",
    "train_y = train[[\"Labels\"]]"
   ]
  },
  {
   "cell_type": "code",
   "execution_count": 5,
   "id": "faa6575a",
   "metadata": {},
   "outputs": [
    {
     "data": {
      "text/html": [
       "20403"
      ],
      "text/latex": [
       "20403"
      ],
      "text/markdown": [
       "20403"
      ],
      "text/plain": [
       "[1] 20403"
      ]
     },
     "metadata": {},
     "output_type": "display_data"
    }
   ],
   "source": [
    "library(stringr)\n",
    "vocab = str_split(train_x, \" \")\n",
    "vocab = unlist(vocab, recursive=FALSE)\n",
    "vocab = unique(vocab)\n",
    "length(vocab)"
   ]
  },
  {
   "cell_type": "code",
   "execution_count": null,
   "id": "49689b4c",
   "metadata": {},
   "outputs": [],
   "source": [
    "# vocab = str_split(train_x, \" \")\n",
    "# vocab = unlist(vocab, recursive=FALSE)"
   ]
  },
  {
   "cell_type": "code",
   "execution_count": null,
   "id": "e9cf1186",
   "metadata": {},
   "outputs": [],
   "source": [
    "# vocab_half1 = c(vocab, \" \")\n",
    "# vocab_half2 = c(\" \", vocab)\n",
    "\n",
    "# vocab2 = paste(vocab_half2, vocab_half1)\n",
    "# vocab2 = unique(vocab2)\n",
    "# vocab2 = vocab2[3:length(vocab2)-1]\n",
    "# vocab2[1:30]"
   ]
  },
  {
   "cell_type": "code",
   "execution_count": 6,
   "id": "106db784",
   "metadata": {},
   "outputs": [
    {
     "data": {
      "text/html": [
       "20371"
      ],
      "text/latex": [
       "20371"
      ],
      "text/markdown": [
       "20371"
      ],
      "text/plain": [
       "[1] 20371"
      ]
     },
     "metadata": {},
     "output_type": "display_data"
    }
   ],
   "source": [
    "remove = tolower(list(\"About\",\"Above\",\"Across\",\"After\",\"Ago\",\"At\",\"Below\",\"By\",\"Down\",\"During\",\"For\",\"From\",\"In\",\"Into\",\"Off\",\n",
    "                      \"On\",\"Over\",\"Past\",\"Since\",\"Through\",\"To\",\"Under\",\"Until\",\"Up\",\"With\", \"the\", \"That\", \"of\", \"a\", \"and\", \"is\"))\n",
    "vocab = vocab[! vocab %in% c(remove, \"Says\")]\n",
    "\n",
    "length(vocab)"
   ]
  },
  {
   "cell_type": "code",
   "execution_count": 7,
   "id": "90420c11",
   "metadata": {},
   "outputs": [
    {
     "data": {
      "text/html": [
       "20371"
      ],
      "text/latex": [
       "20371"
      ],
      "text/markdown": [
       "20371"
      ],
      "text/plain": [
       "[1] 20371"
      ]
     },
     "metadata": {},
     "output_type": "display_data"
    }
   ],
   "source": [
    "vocab = vocab[order(vocab)]\n",
    "length(vocab)"
   ]
  },
  {
   "cell_type": "code",
   "execution_count": 8,
   "id": "b9c2698b",
   "metadata": {},
   "outputs": [
    {
     "data": {
      "text/html": [
       "9216"
      ],
      "text/latex": [
       "9216"
      ],
      "text/markdown": [
       "9216"
      ],
      "text/plain": [
       "[1] 9216"
      ]
     },
     "metadata": {},
     "output_type": "display_data"
    }
   ],
   "source": [
    "N = length(train_x)\n",
    "N"
   ]
  },
  {
   "cell_type": "code",
   "execution_count": 9,
   "id": "ab93bcc0",
   "metadata": {},
   "outputs": [
    {
     "data": {
      "text/html": [
       "<ol class=list-inline>\n",
       "\t<li>1</li>\n",
       "\t<li>2</li>\n",
       "\t<li>3</li>\n",
       "\t<li>4</li>\n",
       "\t<li>5</li>\n",
       "\t<li>6</li>\n",
       "</ol>\n"
      ],
      "text/latex": [
       "\\begin{enumerate*}\n",
       "\\item 1\n",
       "\\item 2\n",
       "\\item 3\n",
       "\\item 4\n",
       "\\item 5\n",
       "\\item 6\n",
       "\\end{enumerate*}\n"
      ],
      "text/markdown": [
       "1. 1\n",
       "2. 2\n",
       "3. 3\n",
       "4. 4\n",
       "5. 5\n",
       "6. 6\n",
       "\n",
       "\n"
      ],
      "text/plain": [
       "[1] 1 2 3 4 5 6"
      ]
     },
     "metadata": {},
     "output_type": "display_data"
    }
   ],
   "source": [
    "C = c(1,2,3,4,5,6)\n",
    "C"
   ]
  },
  {
   "cell_type": "code",
   "execution_count": 20,
   "id": "9a02db0e",
   "metadata": {},
   "outputs": [
    {
     "data": {
      "text/html": [
       "<ol class=list-inline>\n",
       "\t<li>0.38</li>\n",
       "\t<li>0.374</li>\n",
       "\t<li>0.372</li>\n",
       "\t<li>0.374</li>\n",
       "\t<li>0.393</li>\n",
       "\t<li>0.372</li>\n",
       "\t<li>0.376</li>\n",
       "\t<li>0.371</li>\n",
       "\t<li>0.441</li>\n",
       "\t<li>0.429</li>\n",
       "</ol>\n"
      ],
      "text/latex": [
       "\\begin{enumerate*}\n",
       "\\item 0.38\n",
       "\\item 0.374\n",
       "\\item 0.372\n",
       "\\item 0.374\n",
       "\\item 0.393\n",
       "\\item 0.372\n",
       "\\item 0.376\n",
       "\\item 0.371\n",
       "\\item 0.441\n",
       "\\item 0.429\n",
       "\\end{enumerate*}\n"
      ],
      "text/markdown": [
       "1. 0.38\n",
       "2. 0.374\n",
       "3. 0.372\n",
       "4. 0.374\n",
       "5. 0.393\n",
       "6. 0.372\n",
       "7. 0.376\n",
       "8. 0.371\n",
       "9. 0.441\n",
       "10. 0.429\n",
       "\n",
       "\n"
      ],
      "text/plain": [
       " [1] 0.380 0.374 0.372 0.374 0.393 0.372 0.376 0.371 0.441 0.429"
      ]
     },
     "metadata": {},
     "output_type": "display_data"
    }
   ],
   "source": [
    "\n",
    "\n",
    "tempi1 = c()\n",
    "\n",
    "for (i in 900*c(1,2,3,4,5,6,7,8,9,10)){\n",
    "    \n",
    "\n",
    "frame = as.data.frame(table(vocab))\n",
    "frame <- frame[ -2 ]\n",
    "condprob2 = as.data.frame(table(vocab))\n",
    "condprob2 <- frame[ -2 ]\n",
    "train = tot[1:train_dim,]\n",
    "train = train[1:i,]\n",
    "\n",
    "a = Sys.time()\n",
    "for (c in C){\n",
    "    label = c-1\n",
    "    train_c = train[which(train$Labels == label), ]\n",
    "    train_c_x = train_c[[\"Text\"]]\n",
    "    vocab_c = str_split(train_c_x, \" \")\n",
    "    vocab_c = unlist(vocab_c, recursive=FALSE)\n",
    "    vocab_c = vocab_c[! vocab_c %in% c(remove, \"Says\")]\n",
    "    \n",
    "    vocab_dummy = c(vocab, vocab_c)\n",
    "    \n",
    "    count = as.data.frame(table(vocab_dummy))\n",
    "    frame[c+1] = count$Freq\n",
    "    somma = sum(frame[c+1])\n",
    "    condprob2[c+1] = frame[c+1]/somma \n",
    "    \n",
    "}\n",
    "\n",
    "prior = c(0.162326388888889, 0.193250868055556, 0.206922743055556, 0.192274305555556, 0.0811631944444444, 0.1640625)\n",
    "b = Sys.time()\n",
    "tempi1 = c(tempi1,  round(as.numeric(difftime(time1 = b, time2 = a, units = \"secs\")), 3) ) \n",
    "    }\n",
    "\n",
    "tempi1"
   ]
  },
  {
   "cell_type": "code",
   "execution_count": 101,
   "id": "f53af4cd",
   "metadata": {},
   "outputs": [
    {
     "data": {
      "text/html": [
       "<ol class=list-inline>\n",
       "\t<li>4.874</li>\n",
       "\t<li>6.337</li>\n",
       "\t<li>6.917</li>\n",
       "\t<li>8.654</li>\n",
       "\t<li>10.755</li>\n",
       "\t<li>12.372</li>\n",
       "\t<li>16.561</li>\n",
       "\t<li>16.33</li>\n",
       "\t<li>17.45</li>\n",
       "\t<li>19.437</li>\n",
       "</ol>\n"
      ],
      "text/latex": [
       "\\begin{enumerate*}\n",
       "\\item 4.874\n",
       "\\item 6.337\n",
       "\\item 6.917\n",
       "\\item 8.654\n",
       "\\item 10.755\n",
       "\\item 12.372\n",
       "\\item 16.561\n",
       "\\item 16.33\n",
       "\\item 17.45\n",
       "\\item 19.437\n",
       "\\end{enumerate*}\n"
      ],
      "text/markdown": [
       "1. 4.874\n",
       "2. 6.337\n",
       "3. 6.917\n",
       "4. 8.654\n",
       "5. 10.755\n",
       "6. 12.372\n",
       "7. 16.561\n",
       "8. 16.33\n",
       "9. 17.45\n",
       "10. 19.437\n",
       "\n",
       "\n"
      ],
      "text/plain": [
       " [1]  4.874  6.337  6.917  8.654 10.755 12.372 16.561 16.330 17.450 19.437"
      ]
     },
     "metadata": {},
     "output_type": "display_data"
    }
   ],
   "source": [
    "N_c = c()\n",
    "prior = c()\n",
    "\n",
    "T = c()\n",
    "condprob = c()\n",
    "\n",
    "\n",
    "tempi2 = c()\n",
    "\n",
    "for (i in 900*c(1,2,3,4,5,6,7,8,9,10)){\n",
    "train = tot[1:train_dim,]\n",
    "train = train[1:i,]\n",
    "    \n",
    "a = Sys.time()\n",
    "\n",
    "for (c in C) {\n",
    "    label = c-1\n",
    "    train_c = train[which(train$Labels == label), ]\n",
    "    \n",
    "    train_c_x = train_c[[\"Text\"]]\n",
    "    vocab_c = str_split(train_c_x, \" \")\n",
    "    vocab_c = unlist(vocab_c, recursive=FALSE)\n",
    "    \n",
    "    n_c = dim(train_c)[1]\n",
    "    \n",
    "    N_c = c(N_c, n_c)\n",
    "    prior = c(prior, n_c/N)\n",
    "    \n",
    "    T_c = c()\n",
    "    \n",
    "    \n",
    "    for (t in vocab) {\n",
    "        \n",
    "    T_c = c(T_c, sum(vocab_c == t))\n",
    "        \n",
    "    }\n",
    "\n",
    "    \n",
    "    dummy_sum = sum(T_c) + length(T_c)\n",
    "    \n",
    "    T = c(T, T_c)\n",
    "    \n",
    "    condprob_c = (T_c+1)/dummy_sum\n",
    "    \n",
    "    condprob = c(condprob, condprob_c )\n",
    "    \n",
    "    \n",
    "}\n",
    "\n",
    "# dim(T) = c(length(vocab), length(C))\n",
    "# dim(condprob) = c(length(vocab), length(C))\n",
    "prior\n",
    "\n",
    "b = Sys.time()\n",
    "    \n",
    "tempi2 = c(tempi2,  round(as.numeric(difftime(time1 = b, time2 = a, units = \"secs\")), 3) )   \n",
    " }\n",
    "    \n",
    "tempi2"
   ]
  },
  {
   "cell_type": "code",
   "execution_count": 105,
   "id": "fe0ef336",
   "metadata": {},
   "outputs": [
    {
     "data": {
      "image/png": "[encoded data removed]",
      "text/plain": [
       "plot without title"
      ]
     },
     "metadata": {},
     "output_type": "display_data"
    }
   ],
   "source": [
    "x1 = 900*c(1,2,3,4,5,6,7,8,9,10)\n",
    "plot(x1, tempi1, type=\"o\", col=\"blue\", pch=\"o\", lty=1, ylim=c(0,23) , xlab = \"Train dimension\", ylab = \"Time (s)\")\n",
    "\n",
    "# Add second curve to the same plot by calling points() and lines()\n",
    "# Use symbol '*' for points.\n",
    " points(x1, tempi2, col=\"red\", pch=\"*\")\n",
    " lines(x1, tempi2, col=\"red\",lty=2)\n",
    "\n",
    "legend(800,22.5,legend=c(\"With r built in functions\",\"With for loops\"), col=c(\"blue\",\"red\"),\n",
    "                                   pch=c(\"o\",\"*\"),lty=c(1,2), ncol=1)\n"
   ]
  },
  {
   "cell_type": "markdown",
   "id": "014c4c49",
   "metadata": {},
   "source": [
    "# Test"
   ]
  },
  {
   "cell_type": "code",
   "execution_count": null,
   "id": "f5f4e873",
   "metadata": {},
   "outputs": [],
   "source": [
    "# test = read.csv(file = 'C:/Users/scanu/OneDrive/Desktop/Andrea/Università/Garfa/test.csv')\n",
    "# dim = dim(test)[1]"
   ]
  },
  {
   "cell_type": "code",
   "execution_count": 61,
   "id": "a177d5e9",
   "metadata": {},
   "outputs": [
    {
     "data": {
      "text/html": [
       "1025"
      ],
      "text/latex": [
       "1025"
      ],
      "text/markdown": [
       "1025"
      ],
      "text/plain": [
       "[1] 1025"
      ]
     },
     "metadata": {},
     "output_type": "display_data"
    }
   ],
   "source": [
    "test_x = test[[\"Text\"]]\n",
    "test_y = test[[\"Labels\"]]\n",
    "dim = dim(test)[1]\n",
    "dim"
   ]
  },
  {
   "cell_type": "code",
   "execution_count": 63,
   "id": "1770ad32",
   "metadata": {},
   "outputs": [],
   "source": [
    "matrix = log(t(data.matrix(condprob2[, 2:7])))\n",
    "null = matrix(0,length(vocab))\n",
    "times = c()\n"
   ]
  },
  {
   "cell_type": "code",
   "execution_count": 64,
   "id": "7c7ca305",
   "metadata": {},
   "outputs": [],
   "source": [
    "vec = 100*1:10\n",
    "for (h in vec){\n",
    "\n",
    "a = Sys.time()\n",
    "fit_y_m = c()\n",
    "\n",
    "\n",
    "for (t in 1:h){\n",
    "#     print(\"start\")\n",
    "    words = str_split(test_x[t], \" \")\n",
    "    words = unlist(words, recursive=FALSE)\n",
    "    score_t = c()\n",
    "    \n",
    "    my.text = null\n",
    "    \n",
    "    for (w in words){\n",
    "        \n",
    "            if (w %in% vocab){\n",
    "                \n",
    "                i = which( vocab == w )\n",
    "                \n",
    "                my.text[i] = my.text[i] + 1  \n",
    "            }\n",
    "        \n",
    "        \n",
    "    }\n",
    "    \n",
    "    score_t = matrix %*% my.text + log(prior)\n",
    "    label = which.max(score_t) - 1\n",
    "    fit_y_m = c(fit_y_m, label)\n",
    "    }\n",
    "b = Sys.time()\n",
    "time = round(as.numeric(difftime(time1 = b, time2 = a, units = \"secs\")), 3) \n",
    "times = c(times,time)\n",
    "    }\n"
   ]
  },
  {
   "cell_type": "code",
   "execution_count": 84,
   "id": "d69ad23f",
   "metadata": {},
   "outputs": [],
   "source": [
    "times2 = c()"
   ]
  },
  {
   "cell_type": "code",
   "execution_count": 85,
   "id": "bc854694",
   "metadata": {},
   "outputs": [],
   "source": [
    "for (h in vec){\n",
    "\n",
    "a = Sys.time()\n",
    "\n",
    "fit_y = c()\n",
    "for (t in 1:h){\n",
    "#     print(\"start\")\n",
    "    words = str_split(test_x[t], \" \")\n",
    "    words = unlist(words, recursive=FALSE)\n",
    "    score_t = c()\n",
    "    \n",
    "    for (c in C) {\n",
    "        \n",
    "        score = log(prior[c])\n",
    "        for (w in words){\n",
    "            if (w %in% vocab) {\n",
    "\n",
    "                score = score + log(as.numeric(condprob2[which(condprob2[,1] == w), c ]))\n",
    "#                 print(log(condprob[which(condprob[,7] == w), c ]))\n",
    "            }\n",
    "        }\n",
    "        \n",
    "        score_t = c(score_t, score)\n",
    "    }\n",
    "#     print(score_t)\n",
    "    label = which.max(score_t) - 1\n",
    "    fit_y = c(fit_y, label)\n",
    "}\n",
    "\n",
    "b = Sys.time()\n",
    "time = round(as.numeric(difftime(time1 = b, time2 = a, units = \"secs\")), 3) \n",
    "times2 = c(times2,time)\n",
    "    }"
   ]
  },
  {
   "cell_type": "code",
   "execution_count": 90,
   "id": "af288dd1",
   "metadata": {},
   "outputs": [
    {
     "data": {
      "text/html": [
       "<ol class=list-inline>\n",
       "\t<li>0.624</li>\n",
       "\t<li>1.022</li>\n",
       "\t<li>1.212</li>\n",
       "\t<li>1.658</li>\n",
       "\t<li>2.158</li>\n",
       "\t<li>2.446</li>\n",
       "\t<li>2.703</li>\n",
       "\t<li>2.787</li>\n",
       "\t<li>3.461</li>\n",
       "\t<li>3.425</li>\n",
       "</ol>\n"
      ],
      "text/latex": [
       "\\begin{enumerate*}\n",
       "\\item 0.624\n",
       "\\item 1.022\n",
       "\\item 1.212\n",
       "\\item 1.658\n",
       "\\item 2.158\n",
       "\\item 2.446\n",
       "\\item 2.703\n",
       "\\item 2.787\n",
       "\\item 3.461\n",
       "\\item 3.425\n",
       "\\end{enumerate*}\n"
      ],
      "text/markdown": [
       "1. 0.624\n",
       "2. 1.022\n",
       "3. 1.212\n",
       "4. 1.658\n",
       "5. 2.158\n",
       "6. 2.446\n",
       "7. 2.703\n",
       "8. 2.787\n",
       "9. 3.461\n",
       "10. 3.425\n",
       "\n",
       "\n"
      ],
      "text/plain": [
       " [1] 0.624 1.022 1.212 1.658 2.158 2.446 2.703 2.787 3.461 3.425"
      ]
     },
     "metadata": {},
     "output_type": "display_data"
    }
   ],
   "source": [
    "times"
   ]
  },
  {
   "cell_type": "code",
   "execution_count": 106,
   "id": "a6416660",
   "metadata": {
    "scrolled": true
   },
   "outputs": [
    {
     "data": {
      "image/png": "[encoded data removed]",
      "text/plain": [
       "plot without title"
      ]
     },
     "metadata": {},
     "output_type": "display_data"
    }
   ],
   "source": [
    "plot(vec, times, type=\"o\", col=\"blue\", pch=\"o\", lty=1, ylim=c(0,23) , xlab = \"Test dimension\", ylab = \"Time (s)\")\n",
    "\n",
    "# Add second curve to the same plot by calling points() and lines()\n",
    "# Use symbol '*' for points.\n",
    " points(vec, times2, col=\"red\", pch=\"*\")\n",
    " lines(vec, times2, col=\"red\",lty=2)\n",
    "\n",
    "legend(100,22.5,legend=c(\"With r built in functions\",\"With for loops\"), col=c(\"blue\",\"red\"),\n",
    "                                   pch=c(\"o\",\"*\"),lty=c(1,2), ncol=1)"
   ]
  },
  {
   "cell_type": "code",
   "execution_count": 62,
   "id": "008378a9",
   "metadata": {},
   "outputs": [],
   "source": [
    "# vec2 = c(1:250, c(251,300,350,400,450,500,550,600,650,700,750,800,850,900,950,1000) )"
   ]
  },
  {
   "cell_type": "code",
   "execution_count": 65,
   "id": "5da479ea",
   "metadata": {},
   "outputs": [
    {
     "data": {
      "text/html": [
       "266"
      ],
      "text/latex": [
       "266"
      ],
      "text/markdown": [
       "266"
      ],
      "text/plain": [
       "[1] 266"
      ]
     },
     "metadata": {},
     "output_type": "display_data"
    }
   ],
   "source": [
    "# length(vec2)"
   ]
  },
  {
   "cell_type": "code",
   "execution_count": 64,
   "id": "a4895c42",
   "metadata": {},
   "outputs": [
    {
     "data": {
      "image/png": "[encoded data removed]",
      "text/plain": [
       "plot without title"
      ]
     },
     "metadata": {},
     "output_type": "display_data"
    }
   ],
   "source": [
    "plot(vec,times,type=\"l\",col=\"red\")\n",
    "lines(vec2,times2,col=\"green\")\n"
   ]
  },
  {
   "cell_type": "code",
   "execution_count": 25,
   "id": "33609c92",
   "metadata": {},
   "outputs": [],
   "source": [
    "b = data.frame(fit_y_m,test_y)\n",
    "b[,3] = abs(b[,2] - b[,1])"
   ]
  },
  {
   "cell_type": "code",
   "execution_count": 24,
   "id": "7f4a25fc",
   "metadata": {},
   "outputs": [],
   "source": [
    "a = data.frame(fit_y,test_y)\n",
    "a[,3] = abs(a[,2] - a[,1])"
   ]
  },
  {
   "cell_type": "code",
   "execution_count": null,
   "id": "d7c07642",
   "metadata": {},
   "outputs": [],
   "source": [
    "sum(a[[3]])\n",
    "sum(b[[3]]) #4160 with prepositions 251 without prepositions"
   ]
  },
  {
   "cell_type": "code",
   "execution_count": 26,
   "id": "0a5107de",
   "metadata": {},
   "outputs": [
    {
     "data": {
      "image/png": "[encoded data removed]",
      "text/plain": [
       "plot without title"
      ]
     },
     "metadata": {},
     "output_type": "display_data"
    }
   ],
   "source": [
    "par(mfrow=c(2,2)) \n",
    "\n",
    "###########random\n",
    "draw = sample(1:5, size=1025*20, replace = TRUE)\n",
    "test_yfake = c()\n",
    "for (i in 1:20){\n",
    "    \n",
    "    test_yfake = c(test_yfake, test_y)\n",
    "    \n",
    "}\n",
    "df = data.frame(draw,test_yfake)\n",
    "df[,3] = abs(df[,2] - df[,1])\n",
    "barplot(prop.table(table(df[[3]])))\n",
    "#################\n",
    "\n",
    "barplot(prop.table(table(a[[3]])))\n",
    "\n",
    "\n",
    "barplot(prop.table(table(df[[3]])))\n",
    "#################\n",
    "\n",
    "barplot(prop.table(table(b[[3]])))\n"
   ]
  },
  {
   "cell_type": "code",
   "execution_count": null,
   "id": "909bc365",
   "metadata": {},
   "outputs": [],
   "source": [
    "fit_y-fit_y_m"
   ]
  },
  {
   "cell_type": "code",
   "execution_count": null,
   "id": "89fd2062",
   "metadata": {},
   "outputs": [],
   "source": [
    "b = data.frame(fit_y_m,test_y)\n",
    "b[,3] = abs(b[,2] - b[,1])"
   ]
  },
  {
   "cell_type": "code",
   "execution_count": 29,
   "id": "398b0ffd",
   "metadata": {},
   "outputs": [
    {
     "ename": "ERROR",
     "evalue": "Error in `[[.default`(a, 3): indice fuori limite\n",
     "output_type": "error",
     "traceback": [
      "Error in `[[.default`(a, 3): indice fuori limite\nTraceback:\n",
      "1. barplot(prop.table(table(a[[3]])))",
      "2. prop.table(table(a[[3]]))",
      "3. table(a[[3]])",
      "4. a[[3]]",
      "5. `[[.POSIXct`(a, 3)",
      "6. .POSIXct(NextMethod(\"[[\"), attr(x, \"tzone\"), oldClass(x))",
      "7. NextMethod(\"[[\")"
     ]
    }
   ],
   "source": [
    "par(mfrow=c(2,2)) \n",
    "\n",
    "###########random\n",
    "draw = sample(1:5, size=1025*20, replace = TRUE)\n",
    "test_yfake = c()\n",
    "for (i in 1:20){\n",
    "    \n",
    "    test_yfake = c(test_yfake, test_y)\n",
    "    \n",
    "}\n",
    "df = data.frame(draw,test_yfake)\n",
    "df[,3] = abs(df[,2] - df[,1])\n",
    "barplot(prop.table(table(a[[3]])))\n",
    "#################\n",
    "\n",
    "barplot(prop.table(table(b[[3]])))"
   ]
  },
  {
   "cell_type": "code",
   "execution_count": null,
   "id": "7a56a3e6",
   "metadata": {},
   "outputs": [],
   "source": [
    "fit_y2 = c()\n",
    "for (t in 1:train_dim){\n",
    "#     print(\"start\")\n",
    "    words = str_split(train_x[t], \" \")\n",
    "    words = unlist(words, recursive=FALSE)\n",
    "    score_t = c()\n",
    "    \n",
    "    for (c in C) {\n",
    "        \n",
    "        score = log(prior[c])\n",
    "        for (w in words){\n",
    "            if (w %in% vocab) {\n",
    "                score = score + log(condprob[which(condprob[,7] == w), c ])\n",
    "#                 print(log(condprob[which(condprob[,7] == w), c ]))\n",
    "            }\n",
    "        }\n",
    "        \n",
    "        score_t = c(score_t, score)\n",
    "    }\n",
    "#     print(score_t)\n",
    "    label = which.max(score_t) - 1\n",
    "    fit_y2 = c(fit_y2, label)\n",
    "}"
   ]
  },
  {
   "cell_type": "code",
   "execution_count": null,
   "id": "a9c1bdc5",
   "metadata": {},
   "outputs": [],
   "source": [
    "b = data.frame(fit_y2,train_y)\n",
    "b[,3] = abs(b[,2] - b[,1])"
   ]
  },
  {
   "cell_type": "code",
   "execution_count": null,
   "id": "0b2cde24",
   "metadata": {},
   "outputs": [],
   "source": [
    "barplot(prop.table(table(b[[3]])))"
   ]
  },
  {
   "cell_type": "code",
   "execution_count": null,
   "id": "c0a1b63c",
   "metadata": {},
   "outputs": [],
   "source": [
    "length(b[,3])"
   ]
  },
  {
   "cell_type": "code",
   "execution_count": null,
   "id": "95d157af",
   "metadata": {},
   "outputs": [],
   "source": [
    "sum(b[,3]==0)/length(b[,3])"
   ]
  },
  {
   "cell_type": "markdown",
   "id": "3a5a4245",
   "metadata": {},
   "source": [
    "# Two words correlation"
   ]
  },
  {
   "cell_type": "code",
   "execution_count": null,
   "id": "593c6988",
   "metadata": {},
   "outputs": [],
   "source": [
    "text_tot = str_split(train_x, \" \")\n",
    "text_tot = unlist(text_tot, recursive=FALSE)\n",
    "text_tot = tolower(text_tot)\n",
    "\n",
    "\n",
    "remove = tolower(list(\"Says\", \"About\",\"Above\",\"Across\",\"After\",\"Ago\",\"At\",\"Below\",\"By\",\"Down\",\"During\",\"For\",\"From\",\"In\",\"Into\",\"Off\",\n",
    "                      \"On\", \"it\", \"Over\",\"Past\",\"Since\",\"Through\",\"To\",\"Under\",\"Until\",\"Up\",\"With\", \"the\", \"That\", \"of\", \"a\", \"and\", \"is\"))\n",
    "text_tot = text_tot[! text_tot %in% c(remove)]\n",
    "\n",
    "vocab2 = c()\n",
    "\n",
    "for (i in 1:(length(text_tot)-1)) {\n",
    "    \n",
    "    vocab2 = c( vocab2, paste(toString(text_tot[i]) , toString(text_tot[i+1])) )\n",
    "    \n",
    "}\n",
    "vocab2 = unique(vocab2)\n",
    "length(vocab2)"
   ]
  },
  {
   "cell_type": "code",
   "execution_count": null,
   "id": "3e65436a",
   "metadata": {},
   "outputs": [],
   "source": [
    "N_c = c()\n",
    "prior = c()\n",
    "\n",
    "T = c()\n",
    "condprob = c()\n",
    "\n",
    "for (c in C) {\n",
    "    label = c-1    # le label sono 0,1,2,3,4,5\n",
    "    train_c = train[which(train$Labels == label), ]   # dataframe con tutti i documenti di tipo c\n",
    "    \n",
    "    train_c_x = train_c[[\"Text\"]]    # lista dei documenti di tipo c\n",
    "#     vocab_c = str_split(train_c_x, \" \")   # vocabolario delle parole che compaiono solo in documenti tipo c\n",
    "#     vocab_c = unlist(vocab_c, recursive=FALSE)\n",
    "    \n",
    "    train_c_x = tolower(train_c_x)\n",
    "    n_c = dim(train_c)[1]    # numero documenti di tipo c\n",
    "    \n",
    "    N_c = c(N_c, n_c)        # vettore con numero documenti\n",
    "    prior = c(prior, n_c/N)\n",
    "    \n",
    "    T_c = c()                # Numeratore della probabilità\n",
    "    \n",
    "    for (ww in vocab2[1:30000]) {       # primo for sulle parole\n",
    "    print(ww)\n",
    "    mask = grepl(ww, train_c_x, fixed = TRUE)\n",
    "        \n",
    "    Nume = sum(mask)  \n",
    "    \n",
    "    T_c = c(T_c, Nume)    \n",
    "        \n",
    "    }\n",
    "\n",
    "    print(c)\n",
    "    dummy_sum = sum(T_c) + length(T_c)\n",
    "    \n",
    "    T = c(T, T_c)\n",
    "    \n",
    "    condprob_c = (T_c+1)/dummy_sum\n",
    "    \n",
    "    condprob = c(condprob, condprob_c )\n",
    "    \n",
    "    \n",
    "}\n",
    "\n",
    "dim(T) = c(length(vocab2[1:30000]), length(C))\n",
    "# dim(condprob) = c(length(vocab2), length(C))\n",
    "prior"
   ]
  },
  {
   "cell_type": "code",
   "execution_count": null,
   "id": "52035d15",
   "metadata": {},
   "outputs": [],
   "source": [
    "T = as.data.frame(T)\n",
    "T[,7] = vocab2[1:30000]\n",
    "names(T) = c(C-1,\"word\")\n",
    "T"
   ]
  },
  {
   "cell_type": "code",
   "execution_count": null,
   "id": "f412d068",
   "metadata": {},
   "outputs": [],
   "source": [
    "dim(condprob) = c(length(vocab2[1:30000]), length(C))\n",
    "condprob = as.data.frame(condprob)\n",
    "condprob[,7] = vocab2[1:30000]\n",
    "names(condprob) = c(C-1,\"word\")\n",
    "condprob"
   ]
  },
  {
   "cell_type": "code",
   "execution_count": null,
   "id": "70f887be",
   "metadata": {},
   "outputs": [],
   "source": [
    "test_x = test[[\"Text\"]]\n",
    "test_y = test[[\"Labels\"]]\n",
    "dim = dim(test)[1]\n",
    "dim"
   ]
  },
  {
   "cell_type": "code",
   "execution_count": null,
   "id": "58da75de",
   "metadata": {},
   "outputs": [],
   "source": [
    "fit_y = c()\n",
    "for (t in 1:1){\n",
    "#     print(\"start\")\n",
    "    words = str_split(test_x[t], \" \")\n",
    "    words = unlist(words, recursive=FALSE)\n",
    "    \n",
    "    vocab2t = c()\n",
    "\n",
    "    for (i in 1:(length(words)-1)) {\n",
    "    \n",
    "    vocab2t = c( vocab2t, paste(toString(words[i]) , toString(words[i+1])) )\n",
    "    \n",
    "    }\n",
    "    \n",
    "    vocab2t = tolower(vocab2t)\n",
    "\n",
    "    score_t = c()\n",
    "    \n",
    "    for (c in C) {\n",
    "        \n",
    "        score = log(prior[c])\n",
    "        for (w in vocab2t){\n",
    "            print(w %in% vocab2)\n",
    "            print(w)\n",
    "            if (w %in% vocab2) {\n",
    "                \n",
    "                score = score + log(condprob[which(condprob[,7] == w), c ])\n",
    "#                 print(log(condprob[which(condprob[,7] == w), c ]))\n",
    "            }\n",
    "            \n",
    "            \n",
    "        }\n",
    "        \n",
    "\n",
    "        \n",
    "        score_t = c(score_t, score)\n",
    "    }\n",
    "#     print(score_t)\n",
    "    label = which.max(score_t) - 1\n",
    "    fit_y = c(fit_y, label)\n",
    "    \n",
    "\n",
    "}\n",
    "\n",
    "print(fit_y)"
   ]
  },
  {
   "cell_type": "code",
   "execution_count": null,
   "id": "298154a2",
   "metadata": {},
   "outputs": [],
   "source": [
    "a = data.frame(fit_y,test_y)\n",
    "a[,3] = (a[,2] - a[,1])^2 == 0"
   ]
  },
  {
   "cell_type": "code",
   "execution_count": null,
   "id": "f9b8682c",
   "metadata": {},
   "outputs": [],
   "source": []
  },
  {
   "cell_type": "code",
   "execution_count": null,
   "id": "a2ca0604",
   "metadata": {},
   "outputs": [],
   "source": [
    "\n",
    "length(vocab2)"
   ]
  },
  {
   "cell_type": "code",
   "execution_count": null,
   "id": "38741253",
   "metadata": {},
   "outputs": [],
   "source": [
    "tolower(train_x[1])"
   ]
  },
  {
   "cell_type": "code",
   "execution_count": null,
   "id": "b8e71c05",
   "metadata": {},
   "outputs": [],
   "source": [
    "vocab2[1]"
   ]
  },
  {
   "cell_type": "code",
   "execution_count": null,
   "id": "394e1243",
   "metadata": {},
   "outputs": [],
   "source": [
    "5 %in% c(5,6,7,8)"
   ]
  },
  {
   "cell_type": "code",
   "execution_count": null,
   "id": "4e55996c",
   "metadata": {},
   "outputs": [],
   "source": [
    "oper = grepl('annies list', train_c_x, fixed = TRUE)\n",
    "train_c_x[oper] "
   ]
  },
  {
   "cell_type": "code",
   "execution_count": null,
   "id": "f39617cb",
   "metadata": {},
   "outputs": [],
   "source": [
    "train_c = train[which(train$Labels == 1), ]   # dataframe con tutti i documenti di tipo c\n",
    "\n",
    "train_c_x = tolower(train_c[[\"Text\"]])    # lista dei documenti di tipo c\n",
    "train_c_x"
   ]
  },
  {
   "cell_type": "code",
   "execution_count": 52,
   "id": "2b4f4169",
   "metadata": {},
   "outputs": [
    {
     "data": {
      "image/png": "[encoded data removed]",
      "text/plain": [
       "plot without title"
      ]
     },
     "metadata": {},
     "output_type": "display_data"
    }
   ],
   "source": [
    "plot(1:100,1:100,type=\"l\",col=\"red\")\n",
    "lines(1:100,1:100*3,col=\"green\")"
   ]
  },
  {
   "cell_type": "code",
   "execution_count": 53,
   "id": "92bded13",
   "metadata": {},
   "outputs": [
    {
     "data": {
      "image/png": "[encoded data removed]",
      "text/plain": [
       "plot without title"
      ]
     },
     "metadata": {},
     "output_type": "display_data"
    }
   ],
   "source": [
    "plot(vec,times,type=\"l\",col=\"red\")\n",
    "lines(vec2,times2,col=\"green\")"
   ]
  },
  {
   "cell_type": "code",
   "execution_count": null,
   "id": "c01e09c0",
   "metadata": {},
   "outputs": [],
   "source": []
  }
 ],
 "metadata": {
  "kernelspec": {
   "display_name": "R",
   "language": "R",
   "name": "ir"
  },
  "language_info": {
   "codemirror_mode": "r",
   "file_extension": ".r",
   "mimetype": "text/x-r-source",
   "name": "R",
   "pygments_lexer": "r",
   "version": "3.6.1"
  }
 },
 "nbformat": 4,
 "nbformat_minor": 5
}
